{
 "nbformat": 4,
 "nbformat_minor": 2,
 "metadata": {
  "language_info": {
   "name": "python",
   "codemirror_mode": {
    "name": "ipython",
    "version": 3
   }
  },
  "orig_nbformat": 2,
  "file_extension": ".py",
  "mimetype": "text/x-python",
  "name": "python",
  "npconvert_exporter": "python",
  "pygments_lexer": "ipython3",
  "version": 3
 },
 "cells": [
  {
   "cell_type": "code",
   "execution_count": 72,
   "metadata": {},
   "outputs": [
    {
     "name": "stdout",
     "output_type": "stream",
     "text": "<class 'pandas.core.frame.DataFrame'>\nRangeIndex: 1460 entries, 0 to 1459\nData columns (total 304 columns):\nMSSubClass               int64\nLotFrontage              float64\nLotArea                  int64\nOverallQual              int64\nOverallCond              int64\nYearBuilt                int64\nYearRemodAdd             int64\nMasVnrArea               float64\nBsmtFinSF1               int64\nBsmtFinSF2               int64\nBsmtUnfSF                int64\nTotalBsmtSF              int64\n1stFlrSF                 int64\n2ndFlrSF                 int64\nLowQualFinSF             int64\nGrLivArea                int64\nBsmtFullBath             int64\nBsmtHalfBath             int64\nFullBath                 int64\nHalfBath                 int64\nBedroomAbvGr             int64\nKitchenAbvGr             int64\nTotRmsAbvGrd             int64\nFireplaces               int64\nGarageYrBlt              float64\nGarageCars               int64\nGarageArea               int64\nWoodDeckSF               int64\nOpenPorchSF              int64\nEnclosedPorch            int64\n3SsnPorch                int64\nScreenPorch              int64\nPoolArea                 int64\nMiscVal                  int64\nMoSold                   int64\nYrSold                   int64\nMSZoning_C (all)         uint8\nMSZoning_FV              uint8\nMSZoning_RH              uint8\nMSZoning_RL              uint8\nMSZoning_RM              uint8\nStreet_Grvl              uint8\nStreet_Pave              uint8\nAlley_972                uint8\nAlley_Grvl               uint8\nAlley_Pave               uint8\nLotShape_IR1             uint8\nLotShape_IR2             uint8\nLotShape_IR3             uint8\nLotShape_Reg             uint8\nLandContour_Bnk          uint8\nLandContour_HLS          uint8\nLandContour_Low          uint8\nLandContour_Lvl          uint8\nUtilities_AllPub         uint8\nUtilities_NoSeWa         uint8\nLotConfig_Corner         uint8\nLotConfig_CulDSac        uint8\nLotConfig_FR2            uint8\nLotConfig_FR3            uint8\nLotConfig_Inside         uint8\nLandSlope_Gtl            uint8\nLandSlope_Mod            uint8\nLandSlope_Sev            uint8\nNeighborhood_Blmngtn     uint8\nNeighborhood_Blueste     uint8\nNeighborhood_BrDale      uint8\nNeighborhood_BrkSide     uint8\nNeighborhood_ClearCr     uint8\nNeighborhood_CollgCr     uint8\nNeighborhood_Crawfor     uint8\nNeighborhood_Edwards     uint8\nNeighborhood_Gilbert     uint8\nNeighborhood_IDOTRR      uint8\nNeighborhood_MeadowV     uint8\nNeighborhood_Mitchel     uint8\nNeighborhood_NAmes       uint8\nNeighborhood_NPkVill     uint8\nNeighborhood_NWAmes      uint8\nNeighborhood_NoRidge     uint8\nNeighborhood_NridgHt     uint8\nNeighborhood_OldTown     uint8\nNeighborhood_SWISU       uint8\nNeighborhood_Sawyer      uint8\nNeighborhood_SawyerW     uint8\nNeighborhood_Somerst     uint8\nNeighborhood_StoneBr     uint8\nNeighborhood_Timber      uint8\nNeighborhood_Veenker     uint8\nCondition1_Artery        uint8\nCondition1_Feedr         uint8\nCondition1_Norm          uint8\nCondition1_PosA          uint8\nCondition1_PosN          uint8\nCondition1_RRAe          uint8\nCondition1_RRAn          uint8\nCondition1_RRNe          uint8\nCondition1_RRNn          uint8\nCondition2_Artery        uint8\nCondition2_Feedr         uint8\nCondition2_Norm          uint8\nCondition2_PosA          uint8\nCondition2_PosN          uint8\nCondition2_RRAe          uint8\nCondition2_RRAn          uint8\nCondition2_RRNn          uint8\nBldgType_1Fam            uint8\nBldgType_2fmCon          uint8\nBldgType_Duplex          uint8\nBldgType_Twnhs           uint8\nBldgType_TwnhsE          uint8\nHouseStyle_1.5Fin        uint8\nHouseStyle_1.5Unf        uint8\nHouseStyle_1Story        uint8\nHouseStyle_2.5Fin        uint8\nHouseStyle_2.5Unf        uint8\nHouseStyle_2Story        uint8\nHouseStyle_SFoyer        uint8\nHouseStyle_SLvl          uint8\nRoofStyle_Flat           uint8\nRoofStyle_Gable          uint8\nRoofStyle_Gambrel        uint8\nRoofStyle_Hip            uint8\nRoofStyle_Mansard        uint8\nRoofStyle_Shed           uint8\nRoofMatl_ClyTile         uint8\nRoofMatl_CompShg         uint8\nRoofMatl_Membran         uint8\nRoofMatl_Metal           uint8\nRoofMatl_Roll            uint8\nRoofMatl_Tar&Grv         uint8\nRoofMatl_WdShake         uint8\nRoofMatl_WdShngl         uint8\nExterior1st_AsbShng      uint8\nExterior1st_AsphShn      uint8\nExterior1st_BrkComm      uint8\nExterior1st_BrkFace      uint8\nExterior1st_CBlock       uint8\nExterior1st_CemntBd      uint8\nExterior1st_HdBoard      uint8\nExterior1st_ImStucc      uint8\nExterior1st_MetalSd      uint8\nExterior1st_Plywood      uint8\nExterior1st_Stone        uint8\nExterior1st_Stucco       uint8\nExterior1st_VinylSd      uint8\nExterior1st_Wd Sdng      uint8\nExterior1st_WdShing      uint8\nExterior2nd_AsbShng      uint8\nExterior2nd_AsphShn      uint8\nExterior2nd_Brk Cmn      uint8\nExterior2nd_BrkFace      uint8\nExterior2nd_CBlock       uint8\nExterior2nd_CmentBd      uint8\nExterior2nd_HdBoard      uint8\nExterior2nd_ImStucc      uint8\nExterior2nd_MetalSd      uint8\nExterior2nd_Other        uint8\nExterior2nd_Plywood      uint8\nExterior2nd_Stone        uint8\nExterior2nd_Stucco       uint8\nExterior2nd_VinylSd      uint8\nExterior2nd_Wd Sdng      uint8\nExterior2nd_Wd Shng      uint8\nMasVnrType_972           uint8\nMasVnrType_BrkCmn        uint8\nMasVnrType_BrkFace       uint8\nMasVnrType_None          uint8\nMasVnrType_Stone         uint8\nExterQual_Ex             uint8\nExterQual_Fa             uint8\nExterQual_Gd             uint8\nExterQual_TA             uint8\nExterCond_Ex             uint8\nExterCond_Fa             uint8\nExterCond_Gd             uint8\nExterCond_Po             uint8\nExterCond_TA             uint8\nFoundation_BrkTil        uint8\nFoundation_CBlock        uint8\nFoundation_PConc         uint8\nFoundation_Slab          uint8\nFoundation_Stone         uint8\nFoundation_Wood          uint8\nBsmtQual_972             uint8\nBsmtQual_Ex              uint8\nBsmtQual_Fa              uint8\nBsmtQual_Gd              uint8\nBsmtQual_TA              uint8\nBsmtCond_972             uint8\nBsmtCond_Fa              uint8\nBsmtCond_Gd              uint8\nBsmtCond_Po              uint8\nBsmtCond_TA              uint8\nBsmtExposure_972         uint8\nBsmtExposure_Av          uint8\nBsmtExposure_Gd          uint8\nBsmtExposure_Mn          uint8\nBsmtExposure_No          uint8\nBsmtFinType1_972         uint8\nBsmtFinType1_ALQ         uint8\nBsmtFinType1_BLQ         uint8\nBsmtFinType1_GLQ         uint8\nBsmtFinType1_LwQ         uint8\nBsmtFinType1_Rec         uint8\nBsmtFinType1_Unf         uint8\nBsmtFinType2_972         uint8\nBsmtFinType2_ALQ         uint8\nBsmtFinType2_BLQ         uint8\nBsmtFinType2_GLQ         uint8\nBsmtFinType2_LwQ         uint8\nBsmtFinType2_Rec         uint8\nBsmtFinType2_Unf         uint8\nHeating_Floor            uint8\nHeating_GasA             uint8\nHeating_GasW             uint8\nHeating_Grav             uint8\nHeating_OthW             uint8\nHeating_Wall             uint8\nHeatingQC_Ex             uint8\nHeatingQC_Fa             uint8\nHeatingQC_Gd             uint8\nHeatingQC_Po             uint8\nHeatingQC_TA             uint8\nCentralAir_N             uint8\nCentralAir_Y             uint8\nElectrical_972           uint8\nElectrical_FuseA         uint8\nElectrical_FuseF         uint8\nElectrical_FuseP         uint8\nElectrical_Mix           uint8\nElectrical_SBrkr         uint8\nKitchenQual_Ex           uint8\nKitchenQual_Fa           uint8\nKitchenQual_Gd           uint8\nKitchenQual_TA           uint8\nFunctional_Maj1          uint8\nFunctional_Maj2          uint8\nFunctional_Min1          uint8\nFunctional_Min2          uint8\nFunctional_Mod           uint8\nFunctional_Sev           uint8\nFunctional_Typ           uint8\nFireplaceQu_972          uint8\nFireplaceQu_Ex           uint8\nFireplaceQu_Fa           uint8\nFireplaceQu_Gd           uint8\nFireplaceQu_Po           uint8\nFireplaceQu_TA           uint8\nGarageType_2Types        uint8\nGarageType_972           uint8\nGarageType_Attchd        uint8\nGarageType_Basment       uint8\nGarageType_BuiltIn       uint8\nGarageType_CarPort       uint8\nGarageType_Detchd        uint8\nGarageFinish_972         uint8\nGarageFinish_Fin         uint8\nGarageFinish_RFn         uint8\nGarageFinish_Unf         uint8\nGarageQual_972           uint8\nGarageQual_Ex            uint8\nGarageQual_Fa            uint8\nGarageQual_Gd            uint8\nGarageQual_Po            uint8\nGarageQual_TA            uint8\nGarageCond_972           uint8\nGarageCond_Ex            uint8\nGarageCond_Fa            uint8\nGarageCond_Gd            uint8\nGarageCond_Po            uint8\nGarageCond_TA            uint8\nPavedDrive_N             uint8\nPavedDrive_P             uint8\nPavedDrive_Y             uint8\nPoolQC_972               uint8\nPoolQC_Ex                uint8\nPoolQC_Fa                uint8\nPoolQC_Gd                uint8\nFence_972                uint8\nFence_GdPrv              uint8\nFence_GdWo               uint8\nFence_MnPrv              uint8\nFence_MnWw               uint8\nMiscFeature_972          uint8\nMiscFeature_Gar2         uint8\nMiscFeature_Othr         uint8\nMiscFeature_Shed         uint8\nMiscFeature_TenC         uint8\nSaleType_COD             uint8\nSaleType_CWD             uint8\nSaleType_Con             uint8\nSaleType_ConLD           uint8\nSaleType_ConLI           uint8\nSaleType_ConLw           uint8\nSaleType_New             uint8\nSaleType_Oth             uint8\nSaleType_WD              uint8\nSaleCondition_Abnorml    uint8\nSaleCondition_AdjLand    uint8\nSaleCondition_Alloca     uint8\nSaleCondition_Family     uint8\nSaleCondition_Normal     uint8\nSaleCondition_Partial    uint8\ndtypes: float64(3), int64(33), uint8(268)\nmemory usage: 792.9 KB\n[0.82392543 0.81955755 0.80166159 0.88709971 0.65711186]\n"
    }
   ],
   "source": [
    "import numpy as np\n",
    "import pandas as pd\n",
    "from sklearn.ensemble import RandomForestRegressor\n",
    "from sklearn.linear_model import LinearRegression\n",
    "from sklearn.model_selection import train_test_split, cross_val_score, KFold, GridSearchCV\n",
    "from sklearn.preprocessing import LabelEncoder\n",
    "import matplotlib.pyplot as plt\n",
    "import seaborn as sns\n",
    "\n",
    "df = pd.read_csv('/Users/igormishurov/Documents/house-prices-advanced-regression-techniques/train.csv')\n",
    "y = df['SalePrice']\n",
    "df = df.drop(['SalePrice', 'Id'], axis = 1)\n",
    "encoder = LabelEncoder()\n",
    "\n",
    "object_columns = []\n",
    "for i in df.columns:\n",
    "    if (df[i].dtype == 'object'):\n",
    "        df[i] = df[i].fillna('972')\n",
    "        object_columns.append(i)\n",
    "    elif((df[i].dtype == 'int64') | (df[i].dtype == 'float64')):\n",
    "        df[i] = df[i].fillna(972)\n",
    "\n",
    "'''\n",
    "X_train, X_test, y_train, y_test = train_test_split(df, y)\n",
    "rf = RandomForestRegressor()\n",
    "rf.fit(X_train, y_train)\n",
    "rf.score(X_test, y_test)\n",
    "'''\n",
    "'''\n",
    "params = {'max_depth' : [10, 20, 100]}    \n",
    "k_fold = KFold(n_splits=5)\n",
    "best_model = GridSearchCV(RandomForestRegressor(), params, cv = k_fold)\n",
    "best_model.fit(X_train, y_train)\n",
    "print(best_model.score(X_test, y_test))\n",
    "'''\n",
    "\n",
    "object_columns\n",
    "df_dummy = pd.get_dummies(df, object_columns)\n",
    "df_dummy.info(verbose = True)\n",
    "\n",
    "X_train, X_test, y_train, y_test = train_test_split(df_dummy, y)\n",
    "\n",
    "lr = LinearRegression()\n",
    "lr.fit(X_train, y_train)\n",
    "\n",
    "k_fold = KFold(n_splits=5)\n",
    "scores = cross_val_score(LinearRegression(), X=df_dummy, y = y, cv = k_fold)\n",
    "print (scores)"
   ]
  },
  {
   "cell_type": "code",
   "execution_count": null,
   "metadata": {},
   "outputs": [],
   "source": []
  }
 ]
}