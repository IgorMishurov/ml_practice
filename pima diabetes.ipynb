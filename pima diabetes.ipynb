{
 "nbformat": 4,
 "nbformat_minor": 2,
 "metadata": {
  "language_info": {
   "name": "python",
   "codemirror_mode": {
    "name": "ipython",
    "version": 3
   }
  },
  "orig_nbformat": 2,
  "file_extension": ".py",
  "mimetype": "text/x-python",
  "name": "python",
  "npconvert_exporter": "python",
  "pygments_lexer": "ipython3",
  "version": 3
 },
 "cells": [
  {
   "cell_type": "code",
   "execution_count": 32,
   "metadata": {},
   "outputs": [
    {
     "name": "stdout",
     "output_type": "stream",
     "text": "0.7812884483937116\n"
    }
   ],
   "source": [
    "import numpy as np\n",
    "import pandas as pd\n",
    "import seaborn as sns\n",
    "import matplotlib.pyplot as plt\n",
    "from sklearn.linear_model import LogisticRegression\n",
    "from sklearn.model_selection import train_test_split, cross_val_score, KFold\n",
    "from sklearn.svm import SVC\n",
    "\n",
    "# Has no missing values, all dtypes are correct\n",
    "df = pd.read_csv('/Users/igormishurov/Documents/diabetes 3.csv')\n",
    "\n",
    "# Dataset is not balanced well - 65% of 0 and and 34 of 1\n",
    "df['Outcome'].value_counts(normalize = True)\n",
    "y = df['Outcome']\n",
    "X_train, X_test, y_train, y_test = train_test_split(df, y)\n",
    "\n",
    "#sns.pairplot(df, hue='Outcome')\n",
    "\n",
    "df['N1'] = 0\n",
    "df['N2'] = 0\n",
    "df['N3'] = 0\n",
    "df['N4'] = 0\n",
    "df['N5'] = 0\n",
    "df['N6'] = 0\n",
    "df['N7'] = 0\n",
    "df['N8'] = 0\n",
    "df.loc[(df['Pregnancies'] <= 6) & (df['Glucose'] <= 120), 'N1'] = 1\n",
    "df.loc[(df['Pregnancies'] <= 7) & (df['BMI'] <= 30), 'N2'] = 1\n",
    "df.loc[(df['Age'] <= 32) & (df['Glucose'] <= 115), 'N5'] = 1\n",
    "df.loc[(df['Age'] <= 30) & (df['Pregnancies'] <= 6), 'N6']=1\n",
    "df.loc[df['Glucose'] < 105, 'N3'] = 1\n",
    "df = df.drop('Outcome', axis = 1)\n",
    "kfold = KFold(n_splits=10)\n",
    "scores = cross_val_score(LogisticRegression(), df, y, cv = kfold)\n",
    "print (scores.mean())\n"
   ]
  },
  {
   "cell_type": "code",
   "execution_count": null,
   "metadata": {},
   "outputs": [],
   "source": []
  }
 ]
}